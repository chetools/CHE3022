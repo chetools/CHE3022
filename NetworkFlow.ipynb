{
  "nbformat": 4,
  "nbformat_minor": 0,
  "metadata": {
    "colab": {
      "name": "NetworkFlow.ipynb",
      "provenance": [],
      "authorship_tag": "ABX9TyMnPDsiB2IavWpCqWtxMt79",
      "include_colab_link": true
    },
    "kernelspec": {
      "name": "python3",
      "display_name": "Python 3"
    },
    "language_info": {
      "name": "python"
    }
  },
  "cells": [
    {
      "cell_type": "markdown",
      "metadata": {
        "id": "view-in-github",
        "colab_type": "text"
      },
      "source": [
        "<a href=\"https://colab.research.google.com/github/profteachkids/CHE3022/blob/main/NetworkFlow.ipynb\" target=\"_parent\"><img src=\"https://colab.research.google.com/assets/colab-badge.svg\" alt=\"Open In Colab\"/></a>"
      ]
    },
    {
      "cell_type": "code",
      "metadata": {
        "id": "-cpcsYGBgUdF"
      },
      "source": [
        "import numpy as np\n",
        "from scipy.optimize import newton, root"
      ],
      "execution_count": 1,
      "outputs": []
    },
    {
      "cell_type": "code",
      "metadata": {
        "id": "dXAGuPMHjozQ"
      },
      "source": [
        "g=9.81\n",
        "rho=1e3\n",
        "mu=1e-3\n",
        "D=0.1\n",
        "eD=1e-3"
      ],
      "execution_count": 2,
      "outputs": []
    },
    {
      "cell_type": "code",
      "metadata": {
        "id": "iAzfhLJBgdii"
      },
      "source": [
        "# Calculates the friction factor using Churchill correlation \n",
        "def f(Re,eD):\n",
        "    A=(2.457*np.log(1/((7./Re)**0.9+0.27*eD)))**16\n",
        "    B=(37530/Re)\n",
        "    return 2*((8/Re)**12 + 1/(A+B)**(1.5))**(1/12)"
      ],
      "execution_count": 3,
      "outputs": []
    },
    {
      "cell_type": "code",
      "metadata": {
        "id": "G4ZxFxzghQ3P"
      },
      "source": [
        "# Given a flow Q, calculates delta Head  (head at ToNode) - (head at FromNode)\n",
        "def dHead(Q,L,K,D,eD):\n",
        "    v=np.abs(Q/(np.pi*D**2/4))  #ensures that we do not end up with negative Reynolds numbers\n",
        "    Re= rho*v*D/mu\n",
        "    return -np.sign(Q)*(K+4*f(Re,eD)*L/D)*(v**2/2)/g  #incorporate back in sign (directionality) of Q (flow)"
      ],
      "execution_count": 4,
      "outputs": []
    },
    {
      "cell_type": "code",
      "metadata": {
        "id": "qKwSojsBhY7t"
      },
      "source": [
        "# Given deltaHead, it calculates the flow (with proper signage)\n",
        "def flow(deltaHead, L, K, D, eD):\n",
        "    dH_abs=np.abs(deltaHead)  #ensures no negative Re\n",
        "    if dH_abs<1e-10: #takes care of situation where deltaHead is extremely small, for which\n",
        "    # the numerical solver (newton) has difficulty converging\n",
        "        return 0.0\n",
        "\n",
        "    Qguess=np.pi*D**2/4*np.sqrt(dH_abs/(K+4*0.01*L/D)*2*g)  #Initial guess for flow rate, assuming a reasonable\n",
        "    #guess of 0.01 for the Fanning friction factor\n",
        "\n",
        "    #function to zero - Calculated deltahead based on the iterated flow rate (Q) must be equal to the deltaHead\n",
        "    #given.\n",
        "    def f_to_zero(Q):\n",
        "        return dHead(Q,L,K,D,eD)-dH_abs\n",
        "\n",
        "    resulting_flow_rate=newton(f_to_zero,Qguess)\n",
        "\n",
        "    return np.sign(deltaHead)*resulting_flow_rate  #Correct for directionality of deltaHead"
      ],
      "execution_count": 5,
      "outputs": []
    },
    {
      "cell_type": "code",
      "metadata": {
        "id": "LmJSJTIxEG2F"
      },
      "source": [
        "#fromNode, toNode, L, K\n",
        "pipes = np.array([[0, 1, 1.5, 1.5],\n",
        "                  [0, 2, 2., 2.],\n",
        "                  [1,2, 1.5, 0],\n",
        "                  [1, 3, 1.5, 0],\n",
        "                  [2,4, 0.5, 0],\n",
        "                  [3,4, 3., 2]])\n",
        "\n",
        "z=np.array([30.,0,0,0,0 ])\n",
        "externalP=np.array([2e5, 0.])\n",
        "externalNodes=[0, 4]\n",
        "fromNodes=(pipes[:,0]).astype(np.int32)\n",
        "toNodes=(pipes[:,1]).astype(np.int32)\n",
        "lengths=pipes[:,2]\n",
        "K = pipes[:,3]\n",
        "\n",
        "nPipes = pipes.shape[0]\n",
        "pipeD = np.full(nPipes, D)\n",
        "pipe_eD = np.full(nPipes,eD)\n",
        "nNodes = (np.max(pipes[:,1])).astype(np.int32)+1\n",
        "heads=np.zeros(nNodes)\n",
        "heads[externalNodes]=externalP/rho/g + z[externalNodes]"
      ],
      "execution_count": 14,
      "outputs": []
    },
    {
      "cell_type": "code",
      "metadata": {
        "id": "n2J_jHCMoCly"
      },
      "source": [
        "internalNodes=list(set(range(nNodes))-set(externalNodes))"
      ],
      "execution_count": 7,
      "outputs": []
    },
    {
      "cell_type": "code",
      "metadata": {
        "id": "xuZ-x1tQaGji"
      },
      "source": [
        "def calc_flows(heads):\n",
        "    flows=np.zeros(nPipes)\n",
        "    for i in range(nPipes):\n",
        "        deltaHead = heads[toNodes[i]] - heads[fromNodes[i]]\n",
        "        flows[i]=flow(deltaHead, lengths[i], K[i], pipeD[i], pipe_eD[i])\n",
        "    return flows\n",
        "\n",
        "def calc_netQ(flows):\n",
        "    netQ=np.zeros(nNodes)\n",
        "    np.add.at(netQ,toNodes,flows)\n",
        "    np.add.at(netQ,fromNodes,-flows)\n",
        "    return netQ"
      ],
      "execution_count": 8,
      "outputs": []
    },
    {
      "cell_type": "code",
      "metadata": {
        "colab": {
          "base_uri": "https://localhost:8080/"
        },
        "id": "EEFQ80W_bvjV",
        "outputId": "f3918d42-b873-43c8-b40e-f73760632544"
      },
      "source": [
        "calc_netQ(calc_flows(heads))"
      ],
      "execution_count": 9,
      "outputs": [
        {
          "output_type": "execute_result",
          "data": {
            "text/plain": [
              "array([-0.3437157 ,  0.18420574,  0.15950995,  0.        ,  0.        ])"
            ]
          },
          "metadata": {
            "tags": []
          },
          "execution_count": 9
        }
      ]
    },
    {
      "cell_type": "code",
      "metadata": {
        "id": "vs3tEBhWcZ-3"
      },
      "source": [
        "def netQ_internal(internalP):\n",
        "    heads[internalNodes]=internalP/rho/g + z[internalNodes]\n",
        "    return calc_netQ(calc_flows(heads))[internalNodes]\n"
      ],
      "execution_count": 10,
      "outputs": []
    },
    {
      "cell_type": "code",
      "metadata": {
        "id": "ycYBTdTQp7Tt"
      },
      "source": [
        "internalHeadGuess=np.mean(heads[externalNodes])\n",
        "internalPGuess = (internalHeadGuess - z[internalNodes])*rho*g "
      ],
      "execution_count": 11,
      "outputs": []
    },
    {
      "cell_type": "code",
      "metadata": {
        "id": "5PECBbKycbtZ"
      },
      "source": [
        "result=root(netQ_internal, internalPGuess)"
      ],
      "execution_count": 16,
      "outputs": []
    },
    {
      "cell_type": "code",
      "metadata": {
        "id": "mjwSNB5Pjkvt",
        "colab": {
          "base_uri": "https://localhost:8080/"
        },
        "outputId": "03135c71-4877-43a4-ae19-c082d8a69f27"
      },
      "source": [
        "result.x"
      ],
      "execution_count": 17,
      "outputs": [
        {
          "output_type": "execute_result",
          "data": {
            "text/plain": [
              "array([82620.70449207, 53908.25550016, 74034.72098594])"
            ]
          },
          "metadata": {
            "tags": []
          },
          "execution_count": 17
        }
      ]
    },
    {
      "cell_type": "code",
      "metadata": {
        "colab": {
          "base_uri": "https://localhost:8080/"
        },
        "id": "LsCyD-hejy_9",
        "outputId": "6d1d6296-1260-427b-dea2-5a287dec20f2"
      },
      "source": [
        "calc_flows(heads)"
      ],
      "execution_count": 20,
      "outputs": [
        {
          "output_type": "execute_result",
          "data": {
            "text/plain": [
              "array([0.16809655, 0.15055386, 0.10887172, 0.05922483, 0.25942558,\n",
              "       0.05922483])"
            ]
          },
          "metadata": {
            "tags": []
          },
          "execution_count": 20
        }
      ]
    },
    {
      "cell_type": "code",
      "metadata": {
        "id": "gUKMV6Mijzln",
        "colab": {
          "base_uri": "https://localhost:8080/"
        },
        "outputId": "f6f7f159-1f80-42f9-cede-28bf4f86454f"
      },
      "source": [
        "calc_netQ(calc_flows(heads))"
      ],
      "execution_count": 21,
      "outputs": [
        {
          "output_type": "execute_result",
          "data": {
            "text/plain": [
              "array([-3.18650410e-01,  2.95076463e-13,  1.58761893e-14, -3.01141057e-13,\n",
              "        3.18650410e-01])"
            ]
          },
          "metadata": {
            "tags": []
          },
          "execution_count": 21
        }
      ]
    },
    {
      "cell_type": "code",
      "metadata": {
        "id": "UzmOZC0zrm21"
      },
      "source": [
        ""
      ],
      "execution_count": null,
      "outputs": []
    }
  ]
}